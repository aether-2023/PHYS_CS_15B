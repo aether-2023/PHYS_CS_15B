{
 "cells": [
  {
   "cell_type": "code",
   "execution_count": 10,
   "metadata": {},
   "outputs": [],
   "source": [
    "import u3\n",
    "import time\n",
    "import numpy as np\n",
    "import matplotlib.pyplot as plt\n",
    "import pickle\n",
    "from scipy.optimize import curve_fit\n",
    "\n",
    "class robot:\n",
    "    def __init__(self):\n",
    "        self.labjack = u3.U3()\n",
    "        \n",
    "        self.bxycal = 1. /230 #these are used to convert \n",
    "        self.bzcal = 1./ 205  #for some reason LSM303 has different gain in z\n",
    "        \n",
    "    def close(self):\n",
    "        self.labjack.close()\n",
    "\n",
    "       \n",
    "    def takeBfieldPoint(self):\n",
    "        #SCL should be FI07\n",
    "        #SDA should be FI06\n",
    "        #pullup resistors needed\n",
    "        mylj = self.labjack\n",
    "        mylj.debug = False\n",
    "        mylj.configIO(FIOAnalog=0,EIOAnalog=0)\n",
    "        #mylj.setFIOState(4,0)\n",
    "        #t = mylj.configIO(EnableCounter0 = True,TimerCounterPinOffset = 4)\n",
    "\n",
    "        LSM303_ADDRESS_MAG   = (0x3C >> 1)  # 0011110x\n",
    "        LSM303_REGISTER_CRB_REG_M         = 0x01   #to set gain. should be set to 11100000 = 0xE0\n",
    "        LSM303_REGISTER_MAG_MR_REG_M      = 0x02\n",
    "        LSM303_REGISTER_MAG_OUT_X_H_M     = 0x03\n",
    "        response = mylj.i2c(LSM303_ADDRESS_MAG,[LSM303_REGISTER_MAG_MR_REG_M,0x00])\n",
    "        response = mylj.i2c(LSM303_ADDRESS_MAG,[LSM303_REGISTER_CRB_REG_M,0xE0])\n",
    "        \n",
    "        \n",
    "        response = mylj.i2c(LSM303_ADDRESS_MAG,[LSM303_REGISTER_MAG_OUT_X_H_M], NumI2CBytesToReceive = 6)\n",
    "        print(response['I2CBytes'])\n",
    "        reply = response['I2CBytes'];\n",
    "\n",
    "        Bx = mag16(reply[0],reply[1])*self.bxycal\n",
    "        By = mag16(reply[2],reply[3])*self.bxycal\n",
    "        Bz = mag16(reply[4],reply[5])*self.bzcal\n",
    "        \n",
    "        #print(reply)         \n",
    "        #print(Bx)\n",
    "        return (Bx,By,Bz)\n",
    "    \n",
    "    def printAnalogIns(self):\n",
    "        AIN0value = self.labjack.getAIN(0)\n",
    "        AIN1value = self.labjack.getAIN(1)\n",
    "        AIN2value = self.labjack.getAIN(2)\n",
    "        AIN3value = self.labjack.getAIN(3)\n",
    "        descriptor ='A0 = %5.3f volts, A1 = %5.3f volts, A2 = %5.3f volts, A3 = %5.3f volts ' % (AIN0value, AIN1value, AIN2value, AIN3value)\n",
    "        print(descriptor)\n",
    "  \n",
    "  \n",
    "         \n",
    "    \n",
    "def mag16(hibyte,lobyte):\n",
    "    #a utility to convert LM303 bytes into usable numbers\n",
    "    \n",
    "    n = (hibyte << 8) | lobyte\n",
    "    if n > 32767: \n",
    "        n -= 65536\n",
    "    return n    \n",
    "\n",
    "def plotBFields():\n",
    "    myRobot = robot()\n",
    "    allBx = []\n",
    "    allBy = []\n",
    "    allBz = []\n",
    "    allTimes = []\n",
    "    plt.ion()\n",
    "    startTime = time.time()\n",
    "    for i in range(100):\n",
    "        (Bx,By,Bz) = myRobot.takeBfieldPoint()\n",
    "        allTimes.append(time.time() - startTime) #record the current time\n",
    "        \n",
    "        \n",
    "        allBx.append(Bx)\n",
    "        allBy.append(By)\n",
    "        allBz.append(Bz)\n",
    "        time.sleep(0.1)\n",
    "        \n",
    "    tName = input('input the trial name (M-L-A-n): ')\n",
    "    aData=open(tName,'wb')\n",
    "    pickle.dump([allTimes, allBx, allBy, allBz],aData)\n",
    "    aData.close()\n",
    "        \n",
    "    plt.figure()\n",
    "    plt.plot(allTimes,allBx,label = 'Bx')\n",
    "    plt.plot(allTimes,allBy,label = 'By')\n",
    "    plt.plot(allTimes,allBz,label = 'Bz')\n",
    "    plt.xlabel('time, seconds')\n",
    "    plt.ylabel('field, Gauss')\n",
    "    plt.draw()\n",
    "    plt.gca().legend()\n",
    "        \n",
    "    myRobot.close()\n"
   ]
  },
  {
   "cell_type": "code",
   "execution_count": 11,
   "metadata": {},
   "outputs": [],
   "source": [
    "myRobot = robot()"
   ]
  },
  {
   "cell_type": "code",
   "execution_count": 12,
   "metadata": {},
   "outputs": [
    {
     "name": "stdout",
     "output_type": "stream",
     "text": [
      "[255, 255, 255, 255, 255, 255]\n"
     ]
    },
    {
     "data": {
      "text/plain": [
       "(-0.004347826086956522, -0.004347826086956522, -0.004878048780487805)"
      ]
     },
     "execution_count": 12,
     "metadata": {},
     "output_type": "execute_result"
    }
   ],
   "source": [
    "myRobot.takeBfieldPoint()"
   ]
  },
  {
   "cell_type": "code",
   "execution_count": null,
   "metadata": {},
   "outputs": [],
   "source": []
  },
  {
   "cell_type": "code",
   "execution_count": null,
   "metadata": {},
   "outputs": [],
   "source": []
  },
  {
   "cell_type": "code",
   "execution_count": 2,
   "metadata": {},
   "outputs": [
    {
     "name": "stdout",
     "output_type": "stream",
     "text": [
      "[255, 255, 255, 255, 255, 255]\n",
      "[255, 255, 255, 255, 255, 255]\n",
      "[255, 255, 255, 255, 255, 255]\n",
      "[255, 255, 255, 255, 255, 255]\n",
      "[255, 255, 255, 255, 255, 255]\n",
      "[255, 255, 255, 255, 255, 255]\n",
      "[255, 255, 255, 255, 255, 255]\n",
      "[255, 255, 255, 255, 255, 255]\n",
      "[255, 255, 255, 255, 255, 255]\n",
      "[255, 255, 255, 255, 255, 255]\n",
      "[255, 255, 255, 255, 255, 255]\n",
      "[255, 255, 255, 255, 255, 255]\n",
      "[255, 255, 255, 255, 255, 255]\n",
      "[255, 255, 255, 255, 255, 255]\n",
      "[255, 255, 255, 255, 255, 255]\n",
      "[255, 255, 255, 255, 255, 255]\n",
      "[255, 255, 255, 255, 255, 255]\n",
      "[255, 255, 255, 255, 255, 255]\n",
      "[255, 255, 255, 255, 255, 255]\n",
      "[255, 255, 255, 255, 255, 255]\n",
      "[255, 255, 255, 255, 255, 255]\n",
      "[255, 255, 255, 255, 255, 255]\n",
      "[255, 255, 255, 255, 255, 255]\n",
      "[255, 255, 255, 255, 255, 255]\n",
      "[255, 255, 255, 255, 255, 255]\n",
      "[255, 255, 255, 255, 255, 255]\n",
      "[255, 255, 255, 255, 255, 255]\n",
      "[255, 255, 255, 255, 255, 255]\n",
      "[255, 255, 255, 255, 255, 255]\n",
      "[255, 255, 255, 255, 255, 255]\n",
      "[255, 255, 255, 255, 255, 255]\n",
      "[255, 255, 255, 255, 255, 255]\n",
      "[255, 255, 255, 255, 255, 255]\n",
      "[255, 255, 255, 255, 255, 255]\n",
      "[255, 255, 255, 255, 255, 255]\n",
      "[255, 255, 255, 255, 255, 255]\n",
      "[255, 255, 255, 255, 255, 255]\n",
      "[255, 255, 255, 255, 255, 255]\n",
      "[255, 255, 255, 255, 255, 255]\n",
      "[255, 255, 255, 255, 255, 255]\n",
      "[255, 255, 255, 255, 255, 255]\n",
      "[255, 255, 255, 255, 255, 255]\n",
      "[255, 255, 255, 255, 255, 255]\n",
      "[255, 255, 255, 255, 255, 255]\n",
      "[255, 255, 255, 255, 255, 255]\n",
      "[255, 255, 255, 255, 255, 255]\n",
      "[255, 255, 255, 255, 255, 255]\n",
      "[255, 255, 255, 255, 255, 255]\n",
      "[255, 255, 255, 255, 255, 255]\n",
      "[255, 255, 255, 255, 255, 255]\n",
      "[255, 255, 255, 255, 255, 255]\n",
      "[255, 255, 255, 255, 255, 255]\n",
      "[255, 255, 255, 255, 255, 255]\n",
      "[255, 255, 255, 255, 255, 255]\n",
      "[255, 255, 255, 255, 255, 255]\n",
      "[255, 255, 255, 255, 255, 255]\n",
      "[255, 255, 255, 255, 255, 255]\n",
      "[255, 255, 255, 255, 255, 255]\n",
      "[255, 255, 255, 255, 255, 255]\n",
      "[255, 255, 255, 255, 255, 255]\n",
      "[255, 255, 255, 255, 255, 255]\n",
      "[255, 255, 255, 255, 255, 255]\n",
      "[255, 255, 255, 255, 255, 255]\n",
      "[255, 255, 255, 255, 255, 255]\n",
      "[255, 255, 255, 255, 255, 255]\n",
      "[255, 255, 255, 255, 255, 255]\n",
      "[255, 255, 255, 255, 255, 255]\n",
      "[255, 255, 255, 255, 255, 255]\n",
      "[255, 255, 255, 255, 255, 255]\n",
      "[255, 255, 255, 255, 255, 255]\n",
      "[255, 255, 255, 255, 255, 255]\n",
      "[255, 255, 255, 255, 255, 255]\n",
      "[255, 255, 255, 255, 255, 255]\n",
      "[255, 255, 255, 255, 255, 255]\n",
      "[255, 255, 255, 255, 255, 255]\n",
      "[255, 255, 255, 255, 255, 255]\n",
      "[255, 255, 255, 255, 255, 255]\n",
      "[255, 255, 255, 255, 255, 255]\n",
      "[255, 255, 255, 255, 255, 255]\n",
      "[255, 255, 255, 255, 255, 255]\n",
      "[255, 255, 255, 255, 255, 255]\n",
      "[255, 255, 255, 255, 255, 255]\n",
      "[255, 255, 255, 255, 255, 255]\n",
      "[255, 255, 255, 255, 255, 255]\n",
      "[255, 255, 255, 255, 255, 255]\n",
      "[255, 255, 255, 255, 255, 255]\n",
      "[255, 255, 255, 255, 255, 255]\n",
      "[255, 255, 255, 255, 255, 255]\n",
      "[255, 255, 255, 255, 255, 255]\n",
      "[255, 255, 255, 255, 255, 255]\n",
      "[255, 255, 255, 255, 255, 255]\n",
      "[255, 255, 255, 255, 255, 255]\n",
      "[255, 255, 255, 255, 255, 255]\n",
      "[255, 255, 255, 255, 255, 255]\n",
      "[255, 255, 255, 255, 255, 255]\n",
      "[255, 255, 255, 255, 255, 255]\n",
      "[255, 255, 255, 255, 255, 255]\n",
      "[255, 255, 255, 255, 255, 255]\n",
      "[255, 255, 255, 255, 255, 255]\n",
      "[255, 255, 255, 255, 255, 255]\n"
     ]
    },
    {
     "ename": "KeyboardInterrupt",
     "evalue": "Interrupted by user",
     "output_type": "error",
     "traceback": [
      "\u001b[1;31m---------------------------------------------------------------------------\u001b[0m",
      "\u001b[1;31mKeyboardInterrupt\u001b[0m                         Traceback (most recent call last)",
      "\u001b[1;32m<ipython-input-2-8575cce9966e>\u001b[0m in \u001b[0;36m<module>\u001b[1;34m\u001b[0m\n\u001b[0;32m      1\u001b[0m \u001b[1;31m#r01=robot()\u001b[0m\u001b[1;33m\u001b[0m\u001b[1;33m\u001b[0m\u001b[1;33m\u001b[0m\u001b[0m\n\u001b[0;32m      2\u001b[0m \u001b[1;31m#r01.printAnalogIns()\u001b[0m\u001b[1;33m\u001b[0m\u001b[1;33m\u001b[0m\u001b[1;33m\u001b[0m\u001b[0m\n\u001b[1;32m----> 3\u001b[1;33m \u001b[0mplotBFields\u001b[0m\u001b[1;33m(\u001b[0m\u001b[1;33m)\u001b[0m\u001b[1;33m\u001b[0m\u001b[1;33m\u001b[0m\u001b[0m\n\u001b[0m",
      "\u001b[1;32m<ipython-input-1-63e6d85ad528>\u001b[0m in \u001b[0;36mplotBFields\u001b[1;34m()\u001b[0m\n\u001b[0;32m     84\u001b[0m         \u001b[0mtime\u001b[0m\u001b[1;33m.\u001b[0m\u001b[0msleep\u001b[0m\u001b[1;33m(\u001b[0m\u001b[1;36m0.1\u001b[0m\u001b[1;33m)\u001b[0m\u001b[1;33m\u001b[0m\u001b[1;33m\u001b[0m\u001b[0m\n\u001b[0;32m     85\u001b[0m \u001b[1;33m\u001b[0m\u001b[0m\n\u001b[1;32m---> 86\u001b[1;33m     \u001b[0mtName\u001b[0m \u001b[1;33m=\u001b[0m \u001b[0minput\u001b[0m\u001b[1;33m(\u001b[0m\u001b[1;34m'input the trial name (M-L-A-n): '\u001b[0m\u001b[1;33m)\u001b[0m\u001b[1;33m\u001b[0m\u001b[1;33m\u001b[0m\u001b[0m\n\u001b[0m\u001b[0;32m     87\u001b[0m     \u001b[0maData\u001b[0m\u001b[1;33m=\u001b[0m\u001b[0mopen\u001b[0m\u001b[1;33m(\u001b[0m\u001b[0mtName\u001b[0m\u001b[1;33m,\u001b[0m\u001b[1;34m'wb'\u001b[0m\u001b[1;33m)\u001b[0m\u001b[1;33m\u001b[0m\u001b[1;33m\u001b[0m\u001b[0m\n\u001b[0;32m     88\u001b[0m     \u001b[0mpickle\u001b[0m\u001b[1;33m.\u001b[0m\u001b[0mdump\u001b[0m\u001b[1;33m(\u001b[0m\u001b[1;33m[\u001b[0m\u001b[0mallTimes\u001b[0m\u001b[1;33m,\u001b[0m \u001b[0mallBx\u001b[0m\u001b[1;33m,\u001b[0m \u001b[0mallBy\u001b[0m\u001b[1;33m,\u001b[0m \u001b[0mallBz\u001b[0m\u001b[1;33m]\u001b[0m\u001b[1;33m,\u001b[0m\u001b[0maData\u001b[0m\u001b[1;33m)\u001b[0m\u001b[1;33m\u001b[0m\u001b[1;33m\u001b[0m\u001b[0m\n",
      "\u001b[1;32m~\\anaconda3\\lib\\site-packages\\ipykernel\\kernelbase.py\u001b[0m in \u001b[0;36mraw_input\u001b[1;34m(self, prompt)\u001b[0m\n\u001b[0;32m    858\u001b[0m                 \u001b[1;34m\"raw_input was called, but this frontend does not support input requests.\"\u001b[0m\u001b[1;33m\u001b[0m\u001b[1;33m\u001b[0m\u001b[0m\n\u001b[0;32m    859\u001b[0m             )\n\u001b[1;32m--> 860\u001b[1;33m         return self._input_request(str(prompt),\n\u001b[0m\u001b[0;32m    861\u001b[0m             \u001b[0mself\u001b[0m\u001b[1;33m.\u001b[0m\u001b[0m_parent_ident\u001b[0m\u001b[1;33m,\u001b[0m\u001b[1;33m\u001b[0m\u001b[1;33m\u001b[0m\u001b[0m\n\u001b[0;32m    862\u001b[0m             \u001b[0mself\u001b[0m\u001b[1;33m.\u001b[0m\u001b[0m_parent_header\u001b[0m\u001b[1;33m,\u001b[0m\u001b[1;33m\u001b[0m\u001b[1;33m\u001b[0m\u001b[0m\n",
      "\u001b[1;32m~\\anaconda3\\lib\\site-packages\\ipykernel\\kernelbase.py\u001b[0m in \u001b[0;36m_input_request\u001b[1;34m(self, prompt, ident, parent, password)\u001b[0m\n\u001b[0;32m    902\u001b[0m             \u001b[1;32mexcept\u001b[0m \u001b[0mKeyboardInterrupt\u001b[0m\u001b[1;33m:\u001b[0m\u001b[1;33m\u001b[0m\u001b[1;33m\u001b[0m\u001b[0m\n\u001b[0;32m    903\u001b[0m                 \u001b[1;31m# re-raise KeyboardInterrupt, to truncate traceback\u001b[0m\u001b[1;33m\u001b[0m\u001b[1;33m\u001b[0m\u001b[1;33m\u001b[0m\u001b[0m\n\u001b[1;32m--> 904\u001b[1;33m                 \u001b[1;32mraise\u001b[0m \u001b[0mKeyboardInterrupt\u001b[0m\u001b[1;33m(\u001b[0m\u001b[1;34m\"Interrupted by user\"\u001b[0m\u001b[1;33m)\u001b[0m \u001b[1;32mfrom\u001b[0m \u001b[1;32mNone\u001b[0m\u001b[1;33m\u001b[0m\u001b[1;33m\u001b[0m\u001b[0m\n\u001b[0m\u001b[0;32m    905\u001b[0m             \u001b[1;32mexcept\u001b[0m \u001b[0mException\u001b[0m \u001b[1;32mas\u001b[0m \u001b[0me\u001b[0m\u001b[1;33m:\u001b[0m\u001b[1;33m\u001b[0m\u001b[1;33m\u001b[0m\u001b[0m\n\u001b[0;32m    906\u001b[0m                 \u001b[0mself\u001b[0m\u001b[1;33m.\u001b[0m\u001b[0mlog\u001b[0m\u001b[1;33m.\u001b[0m\u001b[0mwarning\u001b[0m\u001b[1;33m(\u001b[0m\u001b[1;34m\"Invalid Message:\"\u001b[0m\u001b[1;33m,\u001b[0m \u001b[0mexc_info\u001b[0m\u001b[1;33m=\u001b[0m\u001b[1;32mTrue\u001b[0m\u001b[1;33m)\u001b[0m\u001b[1;33m\u001b[0m\u001b[1;33m\u001b[0m\u001b[0m\n",
      "\u001b[1;31mKeyboardInterrupt\u001b[0m: Interrupted by user"
     ]
    }
   ],
   "source": [
    "#r01=robot()\n",
    "#r01.printAnalogIns()\n",
    "plotBFields()"
   ]
  },
  {
   "cell_type": "code",
   "execution_count": 2,
   "metadata": {},
   "outputs": [],
   "source": [
    "def absFFT(times, amplitude):\n",
    "    result = np.abs(np.fft.fft(amplitude))/len(times)\n",
    "    freq = len(times)/times[-1]*np.abs(np.fft.fftfreq(len(times)))\n",
    "    return  freq, result"
   ]
  },
  {
   "cell_type": "code",
   "execution_count": 125,
   "metadata": {},
   "outputs": [],
   "source": [
    "def processData(dataGroup = '60-40-18'):\n",
    "    periods = np.array([])\n",
    "    trialsNum = 0\n",
    "    while trialsNum<5:\n",
    "        trialsNum+=1\n",
    "        fileName = 'rawDataIsHere/'+dataGroup+'-'+str(trialsNum)\n",
    "        aData = open(fileName,'rb')\n",
    "        allTimes,allBx,allBy,allBz = pickle.load(aData)\n",
    "        aData.close()\n",
    "        frequencies,powerSpectrumX = absFFT(allTimes,allBx)\n",
    "        frequencies,powerSpectrumY = absFFT(allTimes,allBy)\n",
    "        frequencies,powerSpectrumZ = absFFT(allTimes,allBz)\n",
    "        powerSpectrumAll = (np.array(powerSpectrumX)+np.array(powerSpectrumY)+np.array(powerSpectrumZ))/3\n",
    "        thePeak = powerSpectrumAll[1:].max()\n",
    "        peakIndex = list(powerSpectrumAll).index(thePeak)\n",
    "        peakFreque = frequencies[peakIndex]\n",
    "        periods=np.append(periods,1/peakFreque)\n",
    "    meanP = np.mean(periods)\n",
    "    stdP = np.std(periods,ddof=1)\n",
    "    \n",
    "    bData=open('periodsAreHere/'+dataGroup,'wb')\n",
    "    pickle.dump([meanP,stdP,periods],bData)\n",
    "    bData.close()\n",
    "    print(meanP,stdP,periods)"
   ]
  },
  {
   "cell_type": "code",
   "execution_count": 127,
   "metadata": {},
   "outputs": [
    {
     "name": "stdout",
     "output_type": "stream",
     "text": [
      "1.5263101850237164 0.0009252392007119486 [1.52519291 1.52676596 1.52718711 1.52543565 1.5269693 ]\n",
      "1.5249818869999476 0.0007934192739935215 [1.52372405 1.5258862  1.52488439 1.52526614 1.52514866]\n"
     ]
    }
   ],
   "source": [
    "# l=80\n",
    "# while l>10:\n",
    "#     l-=10\n",
    "theName = '60-'+'60'+'-18'\n",
    "processData('60-60-18')\n",
    "processData('60-50-18')"
   ]
  },
  {
   "cell_type": "code",
   "execution_count": 21,
   "metadata": {},
   "outputs": [],
   "source": [
    "def func(x,g):\n",
    "    return (2*np.pi)*((x/abs(g))**(0.5))"
   ]
  },
  {
   "cell_type": "code",
   "execution_count": 8,
   "metadata": {},
   "outputs": [],
   "source": [
    "def func1(x,a,b):\n",
    "    return a+b*x"
   ]
  },
  {
   "cell_type": "code",
   "execution_count": 137,
   "metadata": {},
   "outputs": [],
   "source": [
    "def curveFit():\n",
    "    xdata = np.linspace(0, 4, 50)\n",
    "    y = func(xdata, 2.5, 1.3, 0.5)\n",
    "    np.random.seed(1729)\n",
    "    #look at this line, and compare it to what you just did. This is written rather pythonically\n",
    "    y_noise = 0.2 * np.random.normal(size=xdata.size)\n",
    "    ydata = y + y_noise\n",
    "    plt.figure()\n",
    "    plt.plot(xdata, ydata, 'b-', label='data')\n",
    "    \n",
    "    popt, pcov = curve_fit(func, xdata, ydata)\n",
    "    print(popt)\n",
    "    \n",
    "    plt.plot(xdata, func(xdata, *popt), 'r-',\n",
    "             label='fit: a=%5.3f, b=%5.3f, c=%5.3f' % tuple(popt))\n",
    "    \n",
    "    popt, pcov = curve_fit(func, xdata, ydata, bounds=(0, [3., 1., 0.5]))\n",
    "    \n",
    "    plt.plot(xdata, func(xdata, *popt), 'g--',\n",
    "             label='fit: a=%5.3f, b=%5.3f, c=%5.3f' % tuple(popt))\n",
    "    \n",
    "    plt.xlabel('x')\n",
    "    plt.ylabel('y')\n",
    "    plt.legend()\n",
    "    plt.show()"
   ]
  },
  {
   "cell_type": "code",
   "execution_count": 10,
   "metadata": {},
   "outputs": [
    {
     "data": {
      "image/png": "[encoded data removed]",
      "text/plain": [
       "<Figure size 432x288 with 1 Axes>"
      ]
     },
     "metadata": {
      "needs_background": "light"
     },
     "output_type": "display_data"
    }
   ],
   "source": [
    "def pmPlot():\n",
    "    xdata = np.linspace(20, 100, 50)\n",
    "    m=90\n",
    "    theMean = []\n",
    "    theMass = []\n",
    "    theError = []\n",
    "    while m>40:\n",
    "        m-=10\n",
    "        fileName = 'periodsAreHere/'+str(m)+'-40-18'\n",
    "        aData = open(fileName, 'rb')\n",
    "        meanP,stdP,P= pickle.load(aData)\n",
    "        aData.close()\n",
    "        theMean.append(meanP)\n",
    "        theMass.append(m)\n",
    "        theError.append(stdP)\n",
    "    popt, pcov = curve_fit(func1, theMass, theMean)\n",
    "    plt.figure()\n",
    "    plt.plot(theMass,theMean,'*')\n",
    "    plt.errorbar(theMass, theMean, yerr = theError, fmt='+')\n",
    "    plt.plot(xdata, func1(xdata, *popt),\n",
    "             label='fit: a=%5.3f, b=%5.3f' % tuple(popt))\n",
    "    plt.xlabel('Mass (number of coins)')\n",
    "    plt.ylabel('Period (seconds)')\n",
    "    plt.legend()\n",
    "    plt.show()\n",
    "pmPlot()"
   ]
  },
  {
   "cell_type": "code",
   "execution_count": 11,
   "metadata": {},
   "outputs": [
    {
     "data": {
      "image/png": "[encoded data removed]",
      "text/plain": [
       "<Figure size 432x288 with 1 Axes>"
      ]
     },
     "metadata": {
      "needs_background": "light"
     },
     "output_type": "display_data"
    }
   ],
   "source": [
    "def paPlot():\n",
    "    xdata = np.linspace(0, 36, 50)\n",
    "    a=36\n",
    "    theMean = []\n",
    "    theAmplitude = []\n",
    "    theError = []\n",
    "    while a>6:\n",
    "        a-=6\n",
    "        fileName = 'periodsAreHere/'+'60-40-'+str(a)\n",
    "        aData = open(fileName, 'rb')\n",
    "        meanP,stdP,P= pickle.load(aData)\n",
    "        aData.close()\n",
    "        theMean.append(meanP)\n",
    "        theAmplitude.append(a)\n",
    "        theError.append(stdP)\n",
    "    popt, pcov = curve_fit(func1, theAmplitude, theMean)\n",
    "    plt.figure()\n",
    "    plt.plot(theAmplitude,theMean,'*')\n",
    "    plt.errorbar(theAmplitude, theMean, yerr = theError, fmt='+')\n",
    "    plt.plot(xdata, func1(xdata, *popt),\n",
    "             label='fit: a=%5.3f, b=%5.3f' % tuple(popt))\n",
    "    plt.xlabel('Amplitude (degree)')\n",
    "    plt.ylabel('Period (seconds)')\n",
    "    plt.legend()\n",
    "    plt.show()\n",
    "paPlot()"
   ]
  },
  {
   "cell_type": "code",
   "execution_count": 28,
   "metadata": {},
   "outputs": [
    {
     "data": {
      "image/png": "[encoded data removed]",
      "text/plain": [
       "<Figure size 432x288 with 1 Axes>"
      ]
     },
     "metadata": {
      "needs_background": "light"
     },
     "output_type": "display_data"
    }
   ],
   "source": [
    "def plPlot():\n",
    "    xdata = np.linspace(0, 0.80, 50)\n",
    "    l=80\n",
    "    theMean = []\n",
    "    theLength = []\n",
    "    theError = []\n",
    "    while l>10:\n",
    "        l-=10\n",
    "        fileName = 'periodsAreHere/'+'60-'+str(l)+'-18'\n",
    "        aData = open(fileName, 'rb')\n",
    "        meanP,stdP,P= pickle.load(aData)\n",
    "        aData.close()\n",
    "        theMean.append(meanP)\n",
    "        theLength.append(l/100)\n",
    "        theError.append(stdP)\n",
    "    popt, pcov = curve_fit(func, theLength, theMean)\n",
    "    plt.figure()\n",
    "    plt.plot(theLength,theMean,'*')\n",
    "    plt.errorbar(theLength, theMean, yerr = theError, fmt='+', label='sigma')\n",
    "    plt.plot(xdata, func(xdata, *popt),\n",
    "             label='fit: g=%5.3f' % tuple(popt))\n",
    "    plt.xlabel('Length (meter)')\n",
    "    plt.ylabel('Period (seconds)')\n",
    "    plt.legend()\n",
    "    plt.show()\n",
    "plPlot()"
   ]
  },
  {
   "cell_type": "code",
   "execution_count": 164,
   "metadata": {},
   "outputs": [
    {
     "data": {
      "image/png": "[encoded data removed]",
      "text/plain": [
       "<Figure size 432x288 with 1 Axes>"
      ]
     },
     "metadata": {
      "needs_background": "light"
     },
     "output_type": "display_data"
    }
   ],
   "source": [
    "def p2lPlot():\n",
    "    xdata = np.linspace(0, 80, 50)\n",
    "    l=80\n",
    "    theMean = []\n",
    "    theLength = []\n",
    "    theError = []\n",
    "    while l>10:\n",
    "        l-=10\n",
    "        fileName = 'periodsAreHere/'+'60-'+str(l)+'-18'\n",
    "        aData = open(fileName, 'rb')\n",
    "        meanP,stdP,P= pickle.load(aData)\n",
    "        aData.close()\n",
    "        theMean.append(meanP**2)\n",
    "        theLength.append(l)\n",
    "        theError.append(stdP)\n",
    "    popt, pcov = curve_fit(func, theLength, theMean)\n",
    "    plt.figure()\n",
    "    plt.plot(theLength,theMean,'*')\n",
    "    plt.errorbar(theLength, theMean, yerr = theError, fmt='+')\n",
    "    plt.plot(xdata, func(xdata, *popt),\n",
    "             label='fit: a=%5.3f, b=%5.3f' % tuple(popt))\n",
    "    plt.xlabel('Length (centimeter)')\n",
    "    plt.ylabel('Period^2 (seconds^2)')\n",
    "    plt.legend()\n",
    "    plt.show()\n",
    "p2lPlot()"
   ]
  },
  {
   "cell_type": "code",
   "execution_count": 119,
   "metadata": {},
   "outputs": [
    {
     "data": {
      "text/plain": [
       "<matplotlib.legend.Legend at 0x1b89f6d9310>"
      ]
     },
     "execution_count": 119,
     "metadata": {},
     "output_type": "execute_result"
    },
    {
     "data": {
      "image/png": "[encoded data removed]",
      "text/plain": [
       "<Figure size 432x288 with 1 Axes>"
      ]
     },
     "metadata": {
      "needs_background": "light"
     },
     "output_type": "display_data"
    }
   ],
   "source": [
    "aData = open('rawDataIsHere/60-60-18-1','rb')\n",
    "allTimes, allBx, allBy, allBz = pickle.load(aData)\n",
    "aData.close()\n",
    "\n",
    "plt.figure()\n",
    "plt.plot(allTimes,allBx,label = 'Bx')\n",
    "plt.plot(allTimes,allBy,label = 'By')\n",
    "plt.plot(allTimes,allBz,label = 'Bz')\n",
    "plt.xlabel('time, seconds')\n",
    "plt.ylabel('field, Gauss')\n",
    "plt.draw()\n",
    "plt.gca().legend()"
   ]
  },
  {
   "cell_type": "code",
   "execution_count": 6,
   "metadata": {},
   "outputs": [
    {
     "data": {
      "text/plain": [
       "Text(0.5, 0, 'frequency, Hz')"
      ]
     },
     "execution_count": 6,
     "metadata": {},
     "output_type": "execute_result"
    },
    {
     "data": {
      "image/png": "[encoded data removed]",
      "text/plain": [
       "<Figure size 432x288 with 3 Axes>"
      ]
     },
     "metadata": {
      "needs_background": "light"
     },
     "output_type": "display_data"
    }
   ],
   "source": [
    "frequencies,powerSpectrumX = absFFT(allTimes,allBx)\n",
    "frequencies,powerSpectrumY = absFFT(allTimes,allBy)\n",
    "frequencies,powerSpectrumZ = absFFT(allTimes,allBz)\n",
    "plt.figure()\n",
    "plt.subplot(311)\n",
    "plt.plot(frequencies,powerSpectrumX)\n",
    "plt.ylabel('Bx')\n",
    "plt.subplot(312)\n",
    "plt.plot(frequencies,powerSpectrumY)\n",
    "plt.ylabel('By')\n",
    "plt.subplot(313)\n",
    "plt.plot(frequencies,powerSpectrumZ)\n",
    "plt.ylabel('Bz')\n",
    "plt.xlabel('frequency, Hz')\n",
    "#plt.legend()"
   ]
  },
  {
   "cell_type": "code",
   "execution_count": 7,
   "metadata": {},
   "outputs": [
    {
     "data": {
      "text/plain": [
       "[<matplotlib.lines.Line2D at 0x1b89e3eca00>]"
      ]
     },
     "execution_count": 7,
     "metadata": {},
     "output_type": "execute_result"
    },
    {
     "data": {
      "image/png": "[encoded data removed]",
      "text/plain": [
       "<Figure size 432x288 with 1 Axes>"
      ]
     },
     "metadata": {
      "needs_background": "light"
     },
     "output_type": "display_data"
    }
   ],
   "source": [
    "powerSpectrumAll = (np.array(powerSpectrumX)+np.array(powerSpectrumY)+np.array(powerSpectrumZ))/3\n",
    "plt.figure()\n",
    "plt.plot(frequencies, powerSpectrumAll)"
   ]
  },
  {
   "cell_type": "code",
   "execution_count": 72,
   "metadata": {},
   "outputs": [
    {
     "data": {
      "text/plain": [
       "array([2.5, 3.5, 4.5])"
      ]
     },
     "execution_count": 72,
     "metadata": {},
     "output_type": "execute_result"
    }
   ],
   "source": [
    "(np.array([1,2,3])+np.array([4,5,6]))/2"
   ]
  },
  {
   "cell_type": "code",
   "execution_count": 100,
   "metadata": {},
   "outputs": [
    {
     "data": {
      "text/plain": [
       "array([0.        , 0.09361906, 0.18723812, 0.28085718, 0.37447624,\n",
       "       0.4680953 , 0.56171436, 0.65533342, 0.74895248, 0.84257154,\n",
       "       0.9361906 , 1.02980966, 1.12342872, 1.21704778, 1.31066684,\n",
       "       1.4042859 , 1.49790496, 1.59152402, 1.68514308, 1.77876214,\n",
       "       1.8723812 , 1.96600026, 2.05961932, 2.15323838, 2.24685744,\n",
       "       2.3404765 , 2.43409556, 2.52771462, 2.62133368, 2.71495274,\n",
       "       2.8085718 , 2.90219086, 2.99580992, 3.08942898, 3.18304804,\n",
       "       3.2766671 , 3.37028616, 3.46390523, 3.55752429, 3.65114335,\n",
       "       3.74476241, 3.83838147, 3.93200053, 4.02561959, 4.11923865,\n",
       "       4.21285771, 4.30647677, 4.40009583, 4.49371489, 4.58733395,\n",
       "       4.68095301, 4.58733395, 4.49371489, 4.40009583, 4.30647677,\n",
       "       4.21285771, 4.11923865, 4.02561959, 3.93200053, 3.83838147,\n",
       "       3.74476241, 3.65114335, 3.55752429, 3.46390523, 3.37028616,\n",
       "       3.2766671 , 3.18304804, 3.08942898, 2.99580992, 2.90219086,\n",
       "       2.8085718 , 2.71495274, 2.62133368, 2.52771462, 2.43409556,\n",
       "       2.3404765 , 2.24685744, 2.15323838, 2.05961932, 1.96600026,\n",
       "       1.8723812 , 1.77876214, 1.68514308, 1.59152402, 1.49790496,\n",
       "       1.4042859 , 1.31066684, 1.21704778, 1.12342872, 1.02980966,\n",
       "       0.9361906 , 0.84257154, 0.74895248, 0.65533342, 0.56171436,\n",
       "       0.4680953 , 0.37447624, 0.28085718, 0.18723812, 0.09361906])"
      ]
     },
     "execution_count": 100,
     "metadata": {},
     "output_type": "execute_result"
    }
   ],
   "source": [
    "frequencies"
   ]
  },
  {
   "cell_type": "code",
   "execution_count": 101,
   "metadata": {},
   "outputs": [
    {
     "data": {
      "text/plain": [
       "array([3.40360551e-01, 2.80561540e-03, 3.88291095e-03, 1.46989646e-02,\n",
       "       2.75053799e-03, 2.17301398e-03, 3.68237674e-03, 4.66172954e-03,\n",
       "       2.48404381e-02, 6.01001517e-03, 2.65362748e-03, 3.42508528e-03,\n",
       "       1.58379024e-03, 1.55142396e-03, 8.30434921e-04, 6.82452457e-04,\n",
       "       2.08927880e-03, 1.81738313e-03, 9.85001339e-04, 8.24382280e-04,\n",
       "       8.69223342e-04, 7.36394919e-04, 7.04404038e-04, 4.29064013e-04,\n",
       "       4.53817153e-04, 9.81312017e-04, 7.78846195e-04, 5.57683450e-04,\n",
       "       3.47129846e-04, 5.17810577e-04, 4.44840171e-04, 6.33506462e-04,\n",
       "       3.73509206e-04, 1.38827798e-03, 8.37587508e-04, 4.23337305e-04,\n",
       "       4.36701745e-04, 2.79130161e-04, 3.85058842e-04, 4.97567474e-04,\n",
       "       4.86352401e-04, 3.56127437e-04, 8.78766529e-04, 3.68702518e-04,\n",
       "       3.74796999e-04, 5.02434929e-04, 4.25689645e-04, 6.02931904e-04,\n",
       "       4.57022394e-04, 7.94810976e-04, 1.44927536e-04, 7.94810976e-04,\n",
       "       4.57022394e-04, 6.02931904e-04, 4.25689645e-04, 5.02434929e-04,\n",
       "       3.74796999e-04, 3.68702518e-04, 8.78766529e-04, 3.56127437e-04,\n",
       "       4.86352401e-04, 4.97567474e-04, 3.85058842e-04, 2.79130161e-04,\n",
       "       4.36701745e-04, 4.23337305e-04, 8.37587508e-04, 1.38827798e-03,\n",
       "       3.73509206e-04, 6.33506462e-04, 4.44840171e-04, 5.17810577e-04,\n",
       "       3.47129846e-04, 5.57683450e-04, 7.78846195e-04, 9.81312017e-04,\n",
       "       4.53817153e-04, 4.29064013e-04, 7.04404038e-04, 7.36394919e-04,\n",
       "       8.69223342e-04, 8.24382280e-04, 9.85001339e-04, 1.81738313e-03,\n",
       "       2.08927880e-03, 6.82452457e-04, 8.30434921e-04, 1.55142396e-03,\n",
       "       1.58379024e-03, 3.42508528e-03, 2.65362748e-03, 6.01001517e-03,\n",
       "       2.48404381e-02, 4.66172954e-03, 3.68237674e-03, 2.17301398e-03,\n",
       "       2.75053799e-03, 1.46989646e-02, 3.88291095e-03, 2.80561540e-03])"
      ]
     },
     "execution_count": 101,
     "metadata": {},
     "output_type": "execute_result"
    }
   ],
   "source": [
    "powerSpectrumAll"
   ]
  },
  {
   "cell_type": "code",
   "execution_count": 113,
   "metadata": {},
   "outputs": [
    {
     "data": {
      "text/plain": [
       "92"
      ]
     },
     "execution_count": 113,
     "metadata": {},
     "output_type": "execute_result"
    }
   ],
   "source": [
    "thePeak = powerSpectrumAll[1:].max()\n",
    "list(powerSpectrumAll).index(thePeak)"
   ]
  },
  {
   "cell_type": "code",
   "execution_count": 115,
   "metadata": {},
   "outputs": [],
   "source": [
    "f=frequencies[92]"
   ]
  },
  {
   "cell_type": "code",
   "execution_count": 116,
   "metadata": {},
   "outputs": [
    {
     "data": {
      "text/plain": [
       "1.3351981937885287"
      ]
     },
     "execution_count": 116,
     "metadata": {},
     "output_type": "execute_result"
    }
   ],
   "source": [
    "1/f"
   ]
  },
  {
   "cell_type": "code",
   "execution_count": 119,
   "metadata": {},
   "outputs": [
    {
     "data": {
      "text/plain": [
       "'123'"
      ]
     },
     "execution_count": 119,
     "metadata": {},
     "output_type": "execute_result"
    }
   ],
   "source": [
    "'1'+str(2)+'3'"
   ]
  },
  {
   "cell_type": "code",
   "execution_count": 124,
   "metadata": {},
   "outputs": [],
   "source": [
    "a=2"
   ]
  },
  {
   "cell_type": "code",
   "execution_count": 127,
   "metadata": {},
   "outputs": [
    {
     "data": {
      "text/plain": [
       "8"
      ]
     },
     "execution_count": 127,
     "metadata": {},
     "output_type": "execute_result"
    }
   ],
   "source": [
    "a+=2\n",
    "a"
   ]
  },
  {
   "cell_type": "code",
   "execution_count": 22,
   "metadata": {},
   "outputs": [],
   "source": [
    "arr=np.array([])"
   ]
  },
  {
   "cell_type": "code",
   "execution_count": 96,
   "metadata": {},
   "outputs": [],
   "source": [
    "arr=np.append(arr,str(0))"
   ]
  },
  {
   "cell_type": "code",
   "execution_count": 97,
   "metadata": {},
   "outputs": [
    {
     "data": {
      "text/plain": [
       "array(['2.0', '1.0', '2.0', '0.0', '0.0', '0.0', '0'], dtype='<U32')"
      ]
     },
     "execution_count": 97,
     "metadata": {},
     "output_type": "execute_result"
    }
   ],
   "source": [
    "arr"
   ]
  },
  {
   "cell_type": "code",
   "execution_count": 42,
   "metadata": {},
   "outputs": [
    {
     "data": {
      "text/plain": [
       "1.0"
      ]
     },
     "execution_count": 42,
     "metadata": {},
     "output_type": "execute_result"
    }
   ],
   "source": [
    "np.mean(arr)"
   ]
  },
  {
   "cell_type": "code",
   "execution_count": 41,
   "metadata": {},
   "outputs": [
    {
     "data": {
      "text/plain": [
       "1.0"
      ]
     },
     "execution_count": 41,
     "metadata": {},
     "output_type": "execute_result"
    }
   ],
   "source": [
    "np.std(arr,ddof=1)"
   ]
  },
  {
   "cell_type": "code",
   "execution_count": 89,
   "metadata": {},
   "outputs": [],
   "source": [
    "aData = open('periodsAreHere/60-40-18','rb')\n",
    "mean,std,period = pickle.load(aData)\n",
    "aData.close()"
   ]
  },
  {
   "cell_type": "code",
   "execution_count": 90,
   "metadata": {},
   "outputs": [
    {
     "data": {
      "text/plain": [
       "1.334780365228653"
      ]
     },
     "execution_count": 90,
     "metadata": {},
     "output_type": "execute_result"
    }
   ],
   "source": [
    "mean"
   ]
  },
  {
   "cell_type": "code",
   "execution_count": 91,
   "metadata": {},
   "outputs": [
    {
     "data": {
      "text/plain": [
       "0.0009489788573267058"
      ]
     },
     "execution_count": 91,
     "metadata": {},
     "output_type": "execute_result"
    }
   ],
   "source": [
    "std"
   ]
  },
  {
   "cell_type": "code",
   "execution_count": 92,
   "metadata": {},
   "outputs": [
    {
     "data": {
      "text/plain": [
       "array([1.33457145, 1.33399981, 1.33620885, 1.33392352, 1.33519819])"
      ]
     },
     "execution_count": 92,
     "metadata": {},
     "output_type": "execute_result"
    }
   ],
   "source": [
    "period"
   ]
  },
  {
   "cell_type": "code",
   "execution_count": 20,
   "metadata": {},
   "outputs": [
    {
     "data": {
      "text/plain": [
       "3.141592653589793"
      ]
     },
     "execution_count": 20,
     "metadata": {},
     "output_type": "execute_result"
    }
   ],
   "source": [
    "np.pi"
   ]
  },
  {
   "cell_type": "code",
   "execution_count": null,
   "metadata": {},
   "outputs": [],
   "source": []
  }
 ],
 "metadata": {
  "kernelspec": {
   "display_name": "Python 3",
   "language": "python",
   "name": "python3"
  },
  "language_info": {
   "codemirror_mode": {
    "name": "ipython",
    "version": 3
   },
   "file_extension": ".py",
   "mimetype": "text/x-python",
   "name": "python",
   "nbconvert_exporter": "python",
   "pygments_lexer": "ipython3",
   "version": "3.8.3"
  }
 },
 "nbformat": 4,
 "nbformat_minor": 4
}
