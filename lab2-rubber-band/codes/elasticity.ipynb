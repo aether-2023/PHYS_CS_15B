{
 "cells": [
  {
   "cell_type": "code",
   "execution_count": 1,
   "metadata": {},
   "outputs": [],
   "source": [
    "import numpy as np\n",
    "import matplotlib.pyplot as plt\n",
    "import pickle\n",
    "from scipy.optimize import curve_fit\n",
    "import matplotlib.colors as colors"
   ]
  },
  {
   "cell_type": "code",
   "execution_count": 2,
   "metadata": {},
   "outputs": [],
   "source": [
    "L=[2,4,6,8,10,12,14,16,18,20,22,24,26,28,30,32,34,36,38,40]\n",
    "fL=[2460,1125,750,585.94,468.75,375,328.12,281.25,234.38,210.94,187.50,187.50,164.06,164.06,140.62,140.62,117.19,117.19,117.19,109.86]\n",
    "F=[0.5,1,1.5,2,2.5,3,3.5,4,4.5,5,5.5,6,6.5,7,7.5,8,8.5,9,9.5,10]\n",
    "fF=[93.75,117.19,164.06,210.94,281.25,304.69,351.56,375.00,398.44,445.31,515.62,468.75,492.19,562.50,515.62,632.81,515.62,562.50,492.19,585.94]"
   ]
  },
  {
   "cell_type": "code",
   "execution_count": 3,
   "metadata": {},
   "outputs": [],
   "source": [
    "def funcLf(x,v):\n",
    "    return v/2*x"
   ]
  },
  {
   "cell_type": "code",
   "execution_count": 4,
   "metadata": {},
   "outputs": [],
   "source": [
    "def funcTf(x,k):\n",
    "    return k*np.sqrt(x)"
   ]
  },
  {
   "cell_type": "code",
   "execution_count": 5,
   "metadata": {},
   "outputs": [
    {
     "data": {
      "image/png": "[encoded data removed]",
      "text/plain": [
       "<Figure size 432x288 with 1 Axes>"
      ]
     },
     "metadata": {
      "needs_background": "light"
     },
     "output_type": "display_data"
    }
   ],
   "source": [
    "xdata = np.linspace(1.7, 40.7, 100)\n",
    "popt1, pcov1 = curve_fit(funcLf, L, fL)\n",
    "plt.figure()\n",
    "plt.errorbar(L, fL,  xerr = 0, yerr=50, fmt='.',\n",
    "                 ecolor='b',color='b',elinewidth=1,capsize=2)\n",
    "plt.plot(xdata, funcLf(xdata, *popt1),\n",
    "             color = 'r')\n",
    "plt.xlabel('Wavelength (centimeter)')\n",
    "plt.ylabel('Frequency (Hz)')\n",
    "plt.show()"
   ]
  },
  {
   "cell_type": "code",
   "execution_count": 6,
   "metadata": {},
   "outputs": [
    {
     "data": {
      "image/png": "[encoded data removed]",
      "text/plain": [
       "<Figure size 432x288 with 1 Axes>"
      ]
     },
     "metadata": {
      "needs_background": "light"
     },
     "output_type": "display_data"
    }
   ],
   "source": [
    "xdata = np.linspace(0, 10, 100)\n",
    "popt2, pcov2 = curve_fit(funcTf, F, fF)\n",
    "plt.figure()\n",
    "plt.errorbar(F, fF,  xerr = 0, yerr=50, fmt='.',\n",
    "                 ecolor='b',color='b',elinewidth=1,capsize=2)\n",
    "plt.plot(xdata, funcTf(xdata, *popt2),\n",
    "             color = 'r')\n",
    "plt.xlabel('Tension (Newton)')\n",
    "plt.ylabel('Frequency (Hz)')\n",
    "plt.show()"
   ]
  },
  {
   "cell_type": "code",
   "execution_count": null,
   "metadata": {},
   "outputs": [],
   "source": []
  },
  {
   "cell_type": "code",
   "execution_count": 2,
   "metadata": {},
   "outputs": [
    {
     "name": "stdin",
     "output_type": "stream",
     "text": [
      "input the trial name (F-A):  -1\n"
     ]
    }
   ],
   "source": [
    "while 1>0:\n",
    "    tName = input('input the trial name (F-A): ')\n",
    "    if tName=='-1':\n",
    "        break\n",
    "    theLen = np.array([])\n",
    "    i=0\n",
    "    while i<6:\n",
    "        i+=1\n",
    "        theL = int(input('data: '))/100\n",
    "        theLen =np.append(theLen, theL-6.75)\n",
    "    print(theLen)\n",
    "    mean = np.mean(theLen)\n",
    "    std = np.std(theLen,ddof=1)\n",
    "    aData=open('hooks-law/'+tName+'-2','wb')\n",
    "    pickle.dump([mean,std,theLen],aData)\n",
    "    aData.close()"
   ]
  },
  {
   "cell_type": "code",
   "execution_count": 39,
   "metadata": {},
   "outputs": [
    {
     "name": "stdin",
     "output_type": "stream",
     "text": [
      "input the trial name (F-L):  21\n",
      "data:  9375\n",
      "data:  11719\n",
      "data:  14062\n",
      "data:  18750\n",
      "data:  28125\n",
      "data:  51562\n"
     ]
    },
    {
     "name": "stdout",
     "output_type": "stream",
     "text": [
      "[ 93.75 117.19 140.62 187.5  281.25 515.62]\n"
     ]
    },
    {
     "name": "stdin",
     "output_type": "stream",
     "text": [
      "input the trial name (F-L):  30\n",
      "data:  11719\n",
      "data:  14062\n",
      "data:  18750\n",
      "data:  28125\n",
      "data:  39844\n",
      "data:  82031\n"
     ]
    },
    {
     "name": "stdout",
     "output_type": "stream",
     "text": [
      "[117.19 140.62 187.5  281.25 398.44 820.31]\n"
     ]
    },
    {
     "name": "stdin",
     "output_type": "stream",
     "text": [
      "input the trial name (F-L):  40\n",
      "data:  14062\n",
      "data:  16406\n",
      "data:  21094\n",
      "data:  28125\n",
      "data:  42188\n",
      "data:  91406\n"
     ]
    },
    {
     "name": "stdout",
     "output_type": "stream",
     "text": [
      "[140.62 164.06 210.94 281.25 421.88 914.06]\n"
     ]
    },
    {
     "name": "stdin",
     "output_type": "stream",
     "text": [
      "input the trial name (F-L):  50\n",
      "data:  16406\n",
      "data:  21094\n",
      "data:  25781\n",
      "data:  32812\n",
      "data:  51562\n",
      "data:  114844\n"
     ]
    },
    {
     "name": "stdout",
     "output_type": "stream",
     "text": [
      "[ 164.06  210.94  257.81  328.12  515.62 1148.44]\n"
     ]
    },
    {
     "name": "stdin",
     "output_type": "stream",
     "text": [
      "input the trial name (F-L):  60\n",
      "data:  18750\n",
      "data:  21094\n",
      "data:  25781\n",
      "data:  32812\n",
      "data:  49219\n",
      "data:  100781\n"
     ]
    },
    {
     "name": "stdout",
     "output_type": "stream",
     "text": [
      "[ 187.5   210.94  257.81  328.12  492.19 1007.81]\n"
     ]
    },
    {
     "name": "stdin",
     "output_type": "stream",
     "text": [
      "input the trial name (F-L):  80\n",
      "data:  18750\n",
      "data:  21094\n",
      "data:  28125\n",
      "data:  35156\n",
      "data:  53906\n",
      "data:  117188\n"
     ]
    },
    {
     "name": "stdout",
     "output_type": "stream",
     "text": [
      "[ 187.5   210.94  281.25  351.56  539.06 1171.88]\n"
     ]
    },
    {
     "name": "stdin",
     "output_type": "stream",
     "text": [
      "input the trial name (F-L):  -1\n"
     ]
    }
   ],
   "source": [
    "while 1>0:\n",
    "    tName = input('input the trial name (F-L): ')\n",
    "    if tName=='-1':\n",
    "        break\n",
    "    theFreq = np.array([])\n",
    "    i=0\n",
    "    while i<6:\n",
    "        i+=1\n",
    "        freq = int(input('data: '))/100\n",
    "        theFreq =np.append(theFreq, freq)\n",
    "    print(theFreq)\n",
    "    aData=open('pitchData/'+tName+'-24','wb')\n",
    "    pickle.dump([theFreq],aData)\n",
    "    aData.close()"
   ]
  },
  {
   "cell_type": "code",
   "execution_count": 18,
   "metadata": {},
   "outputs": [
    {
     "name": "stdin",
     "output_type": "stream",
     "text": [
      "input the trial name (n-F-d):  10\n",
      "data:  4605\n",
      "data:  4639\n",
      "data:  4745\n",
      "data:  4750\n",
      "data:  4764\n"
     ]
    },
    {
     "name": "stdout",
     "output_type": "stream",
     "text": [
      "[46.05 46.39 47.45 47.5  47.64]\n"
     ]
    },
    {
     "name": "stdin",
     "output_type": "stream",
     "text": [
      "input the trial name (n-F-d):  -1\n"
     ]
    }
   ],
   "source": [
    "while 1>0:\n",
    "    tName = input('input the trial name (n-F-d): ')\n",
    "    if tName=='-1':\n",
    "        break\n",
    "    theLen = np.array([])\n",
    "    i=0\n",
    "    while i<5:\n",
    "        i+=1\n",
    "        theL = int(input('data: '))/100\n",
    "        theLen =np.append(theLen, theL)\n",
    "    print(theLen)\n",
    "    mean = np.mean(theLen)\n",
    "    std = np.std(theLen,ddof=1)\n",
    "    aData=open('force-length/'+'3-'+tName+'-463','wb')\n",
    "    pickle.dump([mean,std,theLen],aData)\n",
    "    aData.close()"
   ]
  },
  {
   "cell_type": "code",
   "execution_count": 23,
   "metadata": {},
   "outputs": [],
   "source": [
    "def func(x,k):\n",
    "    return k*x"
   ]
  },
  {
   "cell_type": "code",
   "execution_count": 2,
   "metadata": {},
   "outputs": [],
   "source": [
    "def func2(x,k,b):\n",
    "    return k*x+b"
   ]
  },
  {
   "cell_type": "code",
   "execution_count": 40,
   "metadata": {},
   "outputs": [
    {
     "data": {
      "image/png": "[encoded data removed]",
      "text/plain": [
       "<Figure size 432x288 with 1 Axes>"
      ]
     },
     "metadata": {
      "needs_background": "light"
     },
     "output_type": "display_data"
    }
   ],
   "source": [
    "def lfPlot():\n",
    "    theForce = []\n",
    "    theMean1 = []\n",
    "    theLength1 = []\n",
    "    theError1 = []\n",
    "    theMean2 = []\n",
    "    theLength2 = []\n",
    "    theError2 = []\n",
    "    theMean3 = []\n",
    "    theLength3 = []\n",
    "    theError3 = []\n",
    "    f=12\n",
    "    oLength1 = [410,412,420,430,450]\n",
    "    oLength2 = [450,450,450,450,460]\n",
    "    oLength3 = [450,452,459,460,463]\n",
    "    oIndex=5\n",
    "    while f>2:\n",
    "        f-=2\n",
    "        oIndex-=1\n",
    "        theForce.append(f)\n",
    "        \n",
    "        fileName1 = 'force-length/'+'1-'+str(f)+'-'+str(oLength1[oIndex])\n",
    "        aData1 = open(fileName1, 'rb')\n",
    "        meanL1,stdL1,L1= pickle.load(aData1)\n",
    "        aData1.close()\n",
    "        theMean1.append(meanL1)\n",
    "        theError1.append(stdL1+0.1)\n",
    "        \n",
    "        fileName2 = 'force-length/'+'2-'+str(f)+'-'+str(oLength2[oIndex])\n",
    "        aData2 = open(fileName2, 'rb')\n",
    "        meanL2,stdL2,L2= pickle.load(aData2)\n",
    "        aData2.close()\n",
    "        theMean2.append(meanL2)\n",
    "        theError2.append(stdL2+0.1)\n",
    "        \n",
    "        fileName3 = 'force-length/'+'3-'+str(f)+'-'+str(oLength3[oIndex])\n",
    "        aData3 = open(fileName3, 'rb')\n",
    "        meanL3,stdL3,L3= pickle.load(aData3)\n",
    "        aData3.close()\n",
    "        theMean3.append(meanL3)\n",
    "        theError3.append(stdL3+0.1)\n",
    "        \n",
    "    plt.figure()\n",
    "    plt.errorbar(theForce, theMean1,  xerr = 0.1, yerr=theError1, fmt='.',\n",
    "                 ecolor='r',color='y',elinewidth=1,capsize=2)\n",
    "    plt.errorbar(theForce, theMean2,  xerr = 0.1, yerr=theError2, fmt='.',\n",
    "                 ecolor='g',color='y',elinewidth=1,capsize=2)\n",
    "    plt.errorbar(theForce, theMean3,  xerr = 0.1, yerr=theError3, fmt='.',\n",
    "                 ecolor='b',color='y',elinewidth=1,capsize=2)\n",
    "    \n",
    "    plt.xlabel('Force (Newton)')\n",
    "    plt.ylabel('Change in Length (centimeter)')\n",
    "    plt.show()\n",
    "lfPlot()"
   ]
  },
  {
   "cell_type": "code",
   "execution_count": 3,
   "metadata": {},
   "outputs": [
    {
     "data": {
      "image/png": "[encoded data removed]",
      "text/plain": [
       "<Figure size 432x288 with 1 Axes>"
      ]
     },
     "metadata": {
      "needs_background": "light"
     },
     "output_type": "display_data"
    }
   ],
   "source": [
    "def lfreqPlot():\n",
    "    forceData = [21,30,40,50,60,80]\n",
    "    lengthData = [24, 20, 16, 12, 8, 4]\n",
    "    index = 6\n",
    "    plt.figure()\n",
    "    colors_list = list(colors._colors_full_map.values())\n",
    "    colorNum = len(colors_list)\n",
    "    while index>0:\n",
    "        index-=1\n",
    "        fileName = 'pitchData/'+str(forceData[index])+'-24'\n",
    "        aData = open(fileName, 'rb')\n",
    "        freqData, = pickle.load(aData)\n",
    "        aData.close()\n",
    "        plt.plot(lengthData,freqData,colors_list[np.random.randint(0, colorNum)],\n",
    "                 label='Tension= '+str(forceData[index]))\n",
    "        plt.errorbar(lengthData, freqData, yerr=0, xerr=0.2, fmt='.',\n",
    "                 ecolor='b',color=colors_list[np.random.randint(0, colorNum)],elinewidth=1,capsize=2,\n",
    "                    )#label='Tension= '+str(forceData[index]))\n",
    "    plt.xlabel('Length (cm)')\n",
    "    plt.ylabel('frequency (Hz)')\n",
    "    plt.legend()\n",
    "    plt.show()\n",
    "lfreqPlot()"
   ]
  },
  {
   "cell_type": "code",
   "execution_count": 10,
   "metadata": {},
   "outputs": [],
   "source": [
    "def func3(x,v):\n",
    "    return v/(2*x)"
   ]
  },
  {
   "cell_type": "code",
   "execution_count": 14,
   "metadata": {},
   "outputs": [
    {
     "data": {
      "image/png": "[encoded data removed]",
      "text/plain": [
       "<Figure size 432x288 with 1 Axes>"
      ]
     },
     "metadata": {
      "needs_background": "light"
     },
     "output_type": "display_data"
    }
   ],
   "source": [
    "def lfreqPlot():\n",
    "    xdata = np.linspace(3.5, 25, 100)\n",
    "    forceData = [21,30,40,50,60,80]\n",
    "    lengthData = [24, 20, 16, 12, 8, 4]\n",
    "    index = 6\n",
    "    plt.figure()\n",
    "    colors_list = list(colors._colors_full_map.values())\n",
    "    colorNum = len(colors_list)\n",
    "    fileName = 'pitchData/'+str(60)+'-24'\n",
    "    aData = open(fileName, 'rb')\n",
    "    freqData, = pickle.load(aData)\n",
    "    aData.close()\n",
    "    popt1, pcov1 = curve_fit(func3, lengthData, freqData)\n",
    "    plt.errorbar(lengthData, freqData, yerr=0, xerr=0.2, fmt='.',\n",
    "             ecolor='b',elinewidth=1,capsize=2)\n",
    "    plt.plot(xdata, func3(xdata, *popt1),\n",
    "             color = 'r')\n",
    "    plt.xlabel('Length (cm)')\n",
    "    plt.ylabel('frequency (Hz)')\n",
    "    plt.show()\n",
    "lfreqPlot()"
   ]
  },
  {
   "cell_type": "code",
   "execution_count": 24,
   "metadata": {},
   "outputs": [],
   "source": [
    "def func4(x,k):\n",
    "    return k*np.sqrt(x)"
   ]
  },
  {
   "cell_type": "code",
   "execution_count": 30,
   "metadata": {},
   "outputs": [
    {
     "data": {
      "image/png": "[encoded data removed]",
      "text/plain": [
       "<Figure size 432x288 with 1 Axes>"
      ]
     },
     "metadata": {
      "needs_background": "light"
     },
     "output_type": "display_data"
    }
   ],
   "source": [
    "def lforcePlot():\n",
    "    xdata = np.linspace(2, 8, 100)\n",
    "    forceData = [21,30,40,50,60,80]\n",
    "    theforceData = [2.1,3.0,4.0,5.0,6.0,8.0]\n",
    "    lengthData = [24, 20, 16, 12, 8, 4]\n",
    "    thefreqData = []\n",
    "    index = 0\n",
    "    plt.figure()\n",
    "    colors_list = list(colors._colors_full_map.values())\n",
    "    colorNum = len(colors_list)\n",
    "    while index<6:\n",
    "        fileName = 'pitchData/'+str(forceData[index])+'-24'\n",
    "        aData = open(fileName, 'rb')\n",
    "        freqData, = pickle.load(aData)\n",
    "        aData.close()\n",
    "        thefreqData.append(freqData[-1])\n",
    "        index+=1\n",
    "    plt.errorbar(theforceData, thefreqData, yerr=0, xerr=0.2, fmt='.',\n",
    "                ecolor='b',elinewidth=1,capsize=2)\n",
    "    plt.xlabel('force (N)')\n",
    "    plt.ylabel('frequency (Hz)')\n",
    "    plt.show()\n",
    "lforcePlot()"
   ]
  },
  {
   "cell_type": "code",
   "execution_count": 22,
   "metadata": {},
   "outputs": [
    {
     "data": {
      "image/png": "[encoded data removed]",
      "text/plain": [
       "<Figure size 432x288 with 1 Axes>"
      ]
     },
     "metadata": {
      "needs_background": "light"
     },
     "output_type": "display_data"
    }
   ],
   "source": [
    "def flPlot():\n",
    "    ydata = np.linspace(0.25, 2.25, 100)\n",
    "    f=225\n",
    "    theMean = []\n",
    "    theForce = []\n",
    "    theError = []\n",
    "    while f>50:\n",
    "        f-=25\n",
    "        fileName = 'hooks-law/'+str(f)+'-2'\n",
    "        aData = open(fileName, 'rb')\n",
    "        meanL,stdL,L= pickle.load(aData)\n",
    "        aData.close()\n",
    "        theMean.append(meanL)\n",
    "        theForce.append(f/100)\n",
    "        theError.append(stdL+0.1)\n",
    "    plt.figure()\n",
    "    plt.errorbar(theMean, theForce, yerr = 0.1, xerr=theError, fmt='.',\n",
    "                 ecolor='b',color='g',elinewidth=1,capsize=2)\n",
    "    plt.ylabel('Force (Newton)')\n",
    "    plt.xlabel('Change in Length (centimeter)')\n",
    "    plt.show()\n",
    "flPlot()"
   ]
  },
  {
   "cell_type": "code",
   "execution_count": 79,
   "metadata": {},
   "outputs": [
    {
     "data": {
      "image/png": "[encoded data removed]",
      "text/plain": [
       "<Figure size 432x288 with 1 Axes>"
      ]
     },
     "metadata": {
      "needs_background": "light"
     },
     "output_type": "display_data"
    }
   ],
   "source": [
    "def fit_flPlot1():\n",
    "    xdata = np.linspace(0.5, 8, 100)\n",
    "    ydata = np.linspace(0.25, 2.25, 100)\n",
    "    f=225\n",
    "    theMean = []\n",
    "    theForce = []\n",
    "    theError = []\n",
    "    while f>50:\n",
    "        f-=25\n",
    "        fileName = 'hooks-law/'+str(f)+'-2'\n",
    "        aData = open(fileName, 'rb')\n",
    "        meanL,stdL,L= pickle.load(aData)\n",
    "        aData.close()\n",
    "        theMean.append(meanL)\n",
    "        theForce.append(f/100)\n",
    "        theError.append(stdL+0.1)\n",
    "    popt1, pcov1 = curve_fit(func, theMean, theForce)\n",
    "    plt.figure()\n",
    "    '''plt.plot(theForce,theMean,'*')'''\n",
    "    plt.errorbar(theMean, theForce, yerr = 0.1, xerr=theError, fmt='.',\n",
    "                 ecolor='b',color='g',elinewidth=1,capsize=4)\n",
    "    plt.plot(xdata, func(xdata, *popt1),\n",
    "             color = 'r')\n",
    "    plt.ylabel('Force (Newton)')\n",
    "    plt.xlabel('Change in Length (centimeter)')\n",
    "    plt.show()\n",
    "fit_flPlot1()"
   ]
  },
  {
   "cell_type": "code",
   "execution_count": 9,
   "metadata": {},
   "outputs": [
    {
     "data": {
      "image/png": "[encoded data removed]",
      "text/plain": [
       "<Figure size 432x288 with 1 Axes>"
      ]
     },
     "metadata": {
      "needs_background": "light"
     },
     "output_type": "display_data"
    },
    {
     "ename": "TypeError",
     "evalue": "not all arguments converted during string formatting",
     "output_type": "error",
     "traceback": [
      "\u001b[1;31m---------------------------------------------------------------------------\u001b[0m",
      "\u001b[1;31mTypeError\u001b[0m                                 Traceback (most recent call last)",
      "\u001b[1;32m<ipython-input-9-8f8ea67038c4>\u001b[0m in \u001b[0;36m<module>\u001b[1;34m\u001b[0m\n\u001b[0;32m     30\u001b[0m     \u001b[0mprint\u001b[0m\u001b[1;33m(\u001b[0m\u001b[1;34m'k1=%5.9f'\u001b[0m \u001b[1;33m%\u001b[0m \u001b[0mtuple\u001b[0m\u001b[1;33m(\u001b[0m\u001b[0mpopt2\u001b[0m\u001b[1;33m)\u001b[0m\u001b[1;33m)\u001b[0m\u001b[1;33m\u001b[0m\u001b[1;33m\u001b[0m\u001b[0m\n\u001b[0;32m     31\u001b[0m     \u001b[0mprint\u001b[0m\u001b[1;33m(\u001b[0m\u001b[1;34m'k2=%5.9f'\u001b[0m \u001b[1;33m%\u001b[0m \u001b[0mtuple\u001b[0m\u001b[1;33m(\u001b[0m\u001b[0mpopt1\u001b[0m\u001b[1;33m)\u001b[0m\u001b[1;33m)\u001b[0m\u001b[1;33m\u001b[0m\u001b[1;33m\u001b[0m\u001b[0m\n\u001b[1;32m---> 32\u001b[1;33m \u001b[0mfit_flPlot2\u001b[0m\u001b[1;33m(\u001b[0m\u001b[1;33m)\u001b[0m\u001b[1;33m\u001b[0m\u001b[1;33m\u001b[0m\u001b[0m\n\u001b[0m",
      "\u001b[1;32m<ipython-input-9-8f8ea67038c4>\u001b[0m in \u001b[0;36mfit_flPlot2\u001b[1;34m()\u001b[0m\n\u001b[0;32m     28\u001b[0m     \u001b[0mplt\u001b[0m\u001b[1;33m.\u001b[0m\u001b[0mxlabel\u001b[0m\u001b[1;33m(\u001b[0m\u001b[1;34m'Change in Length (centimeter)'\u001b[0m\u001b[1;33m)\u001b[0m\u001b[1;33m\u001b[0m\u001b[1;33m\u001b[0m\u001b[0m\n\u001b[0;32m     29\u001b[0m     \u001b[0mplt\u001b[0m\u001b[1;33m.\u001b[0m\u001b[0mshow\u001b[0m\u001b[1;33m(\u001b[0m\u001b[1;33m)\u001b[0m\u001b[1;33m\u001b[0m\u001b[1;33m\u001b[0m\u001b[0m\n\u001b[1;32m---> 30\u001b[1;33m     \u001b[0mprint\u001b[0m\u001b[1;33m(\u001b[0m\u001b[1;34m'k1=%5.9f'\u001b[0m \u001b[1;33m%\u001b[0m \u001b[0mtuple\u001b[0m\u001b[1;33m(\u001b[0m\u001b[0mpopt2\u001b[0m\u001b[1;33m)\u001b[0m\u001b[1;33m)\u001b[0m\u001b[1;33m\u001b[0m\u001b[1;33m\u001b[0m\u001b[0m\n\u001b[0m\u001b[0;32m     31\u001b[0m     \u001b[0mprint\u001b[0m\u001b[1;33m(\u001b[0m\u001b[1;34m'k2=%5.9f'\u001b[0m \u001b[1;33m%\u001b[0m \u001b[0mtuple\u001b[0m\u001b[1;33m(\u001b[0m\u001b[0mpopt1\u001b[0m\u001b[1;33m)\u001b[0m\u001b[1;33m)\u001b[0m\u001b[1;33m\u001b[0m\u001b[1;33m\u001b[0m\u001b[0m\n\u001b[0;32m     32\u001b[0m \u001b[0mfit_flPlot2\u001b[0m\u001b[1;33m(\u001b[0m\u001b[1;33m)\u001b[0m\u001b[1;33m\u001b[0m\u001b[1;33m\u001b[0m\u001b[0m\n",
      "\u001b[1;31mTypeError\u001b[0m: not all arguments converted during string formatting"
     ]
    }
   ],
   "source": [
    "def fit_flPlot2():\n",
    "    xdata = np.linspace(0, 9, 100)\n",
    "    ydata = np.linspace(0.25, 2.25, 100)\n",
    "    f=225\n",
    "    theMean = []\n",
    "    theForce = []\n",
    "    theError = []\n",
    "    while f>50:\n",
    "        f-=25\n",
    "        fileName = 'hooks-law/'+str(f)+'-2'\n",
    "        aData = open(fileName, 'rb')\n",
    "        meanL,stdL,L= pickle.load(aData)\n",
    "        aData.close()\n",
    "        theMean.append(meanL)\n",
    "        theForce.append(f/100)\n",
    "        theError.append(stdL+0.1)\n",
    "    popt1, pcov1 = curve_fit(func2, theMean[0:4], theForce[0:4])\n",
    "    popt2, pcov2 = curve_fit(func2, theMean[4:], theForce[4:])\n",
    "    plt.figure()\n",
    "    '''plt.plot(theForce,theMean,'*')'''\n",
    "    plt.errorbar(theMean, theForce, yerr = np.array(theError)*0.2, xerr=0, fmt='.',\n",
    "                 ecolor='b',color='g',elinewidth=1,capsize=4)\n",
    "    plt.plot(xdata[8:30], func2(xdata[8:30], *popt2),\n",
    "             color = 'r')\n",
    "    plt.plot(xdata[37:87], func2(xdata[37:87], *popt1), \n",
    "             color = 'y')\n",
    "    plt.xlabel('Force (Newton)')\n",
    "    plt.ylabel('Change in Length (centimeter)')\n",
    "    plt.show()\n",
    "    print('k1=%5.9f' % tuple(popt2))\n",
    "    print('k2=%5.9f' % tuple(popt1))\n",
    "fit_flPlot2()"
   ]
  },
  {
   "cell_type": "code",
   "execution_count": null,
   "metadata": {},
   "outputs": [],
   "source": []
  },
  {
   "cell_type": "code",
   "execution_count": 32,
   "metadata": {},
   "outputs": [
    {
     "data": {
      "text/plain": [
       "[4, 5, 6, 7]"
      ]
     },
     "execution_count": 32,
     "metadata": {},
     "output_type": "execute_result"
    }
   ],
   "source": [
    "arr=[1,2,3,4,5,6,7]\n",
    "arr[3:]"
   ]
  },
  {
   "cell_type": "code",
   "execution_count": null,
   "metadata": {},
   "outputs": [],
   "source": []
  },
  {
   "cell_type": "code",
   "execution_count": null,
   "metadata": {},
   "outputs": [],
   "source": []
  }
 ],
 "metadata": {
  "kernelspec": {
   "display_name": "Python 3",
   "language": "python",
   "name": "python3"
  },
  "language_info": {
   "codemirror_mode": {
    "name": "ipython",
    "version": 3
   },
   "file_extension": ".py",
   "mimetype": "text/x-python",
   "name": "python",
   "nbconvert_exporter": "python",
   "pygments_lexer": "ipython3",
   "version": "3.8.3"
  }
 },
 "nbformat": 4,
 "nbformat_minor": 4
}
